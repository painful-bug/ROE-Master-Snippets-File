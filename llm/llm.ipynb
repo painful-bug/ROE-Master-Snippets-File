{
 "cells": [
  {
   "cell_type": "code",
   "execution_count": null,
   "metadata": {},
   "outputs": [],
   "source": [
    "key = 'your-api-key'"
   ]
  },
  {
   "cell_type": "code",
   "execution_count": 148,
   "metadata": {},
   "outputs": [
    {
     "name": "stderr",
     "output_type": "stream",
     "text": [
      "/home/giri/ROE/venv/lib/python3.12/site-packages/tqdm/auto.py:21: TqdmWarning: IProgress not found. Please update jupyter and ipywidgets. See https://ipywidgets.readthedocs.io/en/stable/user_install.html\n",
      "  from .autonotebook import tqdm as notebook_tqdm\n"
     ]
    }
   ],
   "source": [
    "import requests\n",
    "import numpy as np\n",
    "import pandas as pd\n",
    "import json\n",
    "import base64\n",
    "from sentence_transformers.util import cos_sim"
   ]
  },
  {
   "cell_type": "code",
   "execution_count": 5,
   "metadata": {},
   "outputs": [],
   "source": [
    "url1=\"http://aiproxy.sanand.workers.dev/openai/v1/chat/completions\"    # post\n",
    "url2=\"http://aiproxy.sanand.workers.dev/openai/v1/embeddings\"          # post\n",
    "url3=\"https://aiproxy.sanand.workers.dev/openai/v1/models\"             # get"
   ]
  },
  {
   "cell_type": "markdown",
   "metadata": {},
   "source": [
    "# models"
   ]
  },
  {
   "cell_type": "code",
   "execution_count": null,
   "metadata": {},
   "outputs": [],
   "source": [
    "m1=\"gpt-4o-mini\"\n",
    "m2=\"text-embedding-3-small\""
   ]
  },
  {
   "cell_type": "code",
   "execution_count": 7,
   "metadata": {},
   "outputs": [],
   "source": [
    "header={\n",
    "    \"Content-Type\" : \"application/json\",\n",
    "    \"Authorization\" : f\"Bearer {key}\"\n",
    "}"
   ]
  },
  {
   "cell_type": "code",
   "execution_count": 160,
   "metadata": {},
   "outputs": [],
   "source": [
    "r1=requests.get(url3,headers=header)\n",
    "d1=r1.json()"
   ]
  },
  {
   "cell_type": "code",
   "execution_count": 165,
   "metadata": {},
   "outputs": [
    {
     "name": "stdout",
     "output_type": "stream",
     "text": [
      "dict_keys(['object', 'data'])\n",
      "list\n"
     ]
    }
   ],
   "source": [
    "print(d1.keys() , d1['object'], sep=\"\\n\")"
   ]
  },
  {
   "cell_type": "code",
   "execution_count": 172,
   "metadata": {},
   "outputs": [
    {
     "name": "stdout",
     "output_type": "stream",
     "text": [
      "<class 'list'>\n"
     ]
    },
    {
     "data": {
      "text/plain": [
       "{'id': 'tts-1',\n",
       " 'object': 'model',\n",
       " 'created': 1681940951,\n",
       " 'owned_by': 'openai-internal'}"
      ]
     },
     "execution_count": 172,
     "metadata": {},
     "output_type": "execute_result"
    }
   ],
   "source": [
    "print(type(d1['data']))\n",
    "d1['data'][0]"
   ]
  },
  {
   "cell_type": "markdown",
   "metadata": {},
   "source": [
    "# sentiment analysis"
   ]
  },
  {
   "cell_type": "code",
   "execution_count": null,
   "metadata": {},
   "outputs": [],
   "source": [
    "data_2 = {\n",
    "    \"model\" : m1,\n",
    "    \"messages\": [\n",
    "        {\n",
    "            \"role\": \"system\",\n",
    "            \"content\": \"Classify the sentiment of the following three movie reviews. Respond with only one word per review: positive, negative, or neutral.\"\n",
    "        },\n",
    "        {\n",
    "            \"role\": \"user\",\n",
    "            \"content\": \n",
    "                \"1. The cinematography was breathtaking, and the performances were outstanding.\\n\"\n",
    "                \"2. The plot was confusing, and the dialogues were poorly written.\\n\"\n",
    "                \"3. The movie had both entertaining and boring moments in equal measure.\"\n",
    "        }\n",
    "    ]\n",
    "}"
   ]
  },
  {
   "cell_type": "code",
   "execution_count": null,
   "metadata": {},
   "outputs": [],
   "source": [
    "r2=requests.post(url1,headers=header,data=json.dumps(data_2))\n",
    "d2=r2.json()"
   ]
  },
  {
   "cell_type": "code",
   "execution_count": null,
   "metadata": {},
   "outputs": [
    {
     "data": {
      "text/plain": [
       "{'id': 'chatcmpl-B6M3y7HPpVH8KVHyu6wPDfNa3ut8h',\n",
       " 'object': 'chat.completion',\n",
       " 'created': 1740854478,\n",
       " 'model': 'gpt-4o-mini-2024-07-18',\n",
       " 'choices': [{'index': 0,\n",
       "   'message': {'role': 'assistant',\n",
       "    'content': '1. positive  \\n2. negative  \\n3. neutral  ',\n",
       "    'refusal': None},\n",
       "   'logprobs': None,\n",
       "   'finish_reason': 'stop'}],\n",
       " 'usage': {'prompt_tokens': 79,\n",
       "  'completion_tokens': 13,\n",
       "  'total_tokens': 92,\n",
       "  'prompt_tokens_details': {'cached_tokens': 0, 'audio_tokens': 0},\n",
       "  'completion_tokens_details': {'reasoning_tokens': 0,\n",
       "   'audio_tokens': 0,\n",
       "   'accepted_prediction_tokens': 0,\n",
       "   'rejected_prediction_tokens': 0}},\n",
       " 'service_tier': 'default',\n",
       " 'system_fingerprint': 'fp_06737a9306',\n",
       " 'monthlyCost': 0.000315,\n",
       " 'cost': 0.000315,\n",
       " 'monthlyRequests': 1}"
      ]
     },
     "execution_count": 55,
     "metadata": {},
     "output_type": "execute_result"
    }
   ],
   "source": [
    "d2['choices']"
   ]
  },
  {
   "cell_type": "markdown",
   "metadata": {},
   "source": [
    "### sentiment analysis with json schema\n",
    "\n",
    "pls look at structured.json"
   ]
  },
  {
   "cell_type": "code",
   "execution_count": 33,
   "metadata": {},
   "outputs": [],
   "source": [
    "data_3 = {\n",
    "    \"model\" : m1,\n",
    "    \"messages\": [\n",
    "        {\n",
    "            \"role\": \"system\",\n",
    "            \"content\": \"Classify the sentiment of the following three movie reviews. Respond with only one word per review: positive, negative, or neutral.\"\n",
    "        },\n",
    "        {\n",
    "            \"role\": \"user\",\n",
    "            \"content\":\n",
    "                \"0. I hate using LLMs through API calls \\n\"  \n",
    "                \"1. The cinematography was breathtaking, and the performances were outstanding.\\n\"\n",
    "                \"2. The plot was confusing, and the dialogues were poorly written.\\n\"\n",
    "                \"3. The movie had both entertaining and boring moments in equal measure.\"\n",
    "        }\n",
    "    ],\n",
    "    \"response_format\": {\n",
    "        \"type\": \"json_schema\",\n",
    "        \"json_schema\": {\n",
    "            \"name\": \"sentiment_analysis\",\n",
    "            \"strict\": True,\n",
    "            \"schema\": {\n",
    "                \"type\": \"object\",\n",
    "                \"properties\": {\n",
    "                    \"resp\": {\n",
    "                        \"type\": \"array\",\n",
    "                        \"items\": {\n",
    "                            \"type\": \"object\",\n",
    "                            \"properties\": {\n",
    "                                \"sentence_no\": {\n",
    "                                    \"type\": \"integer\",\n",
    "                                    \"description\": \"This should be the refence sentence number, which will be given in the prompt. If not given, assign a number from the context and sentence position\"\n",
    "                                },\n",
    "                                \"sentiment\": {\n",
    "                                    \"type\": \"string\"\n",
    "                                }\n",
    "                            },\n",
    "                            \"required\": [\n",
    "                                \"sentence_no\",\n",
    "                                \"sentiment\"\n",
    "                            ],\n",
    "                            \"additionalProperties\": False\n",
    "                        }\n",
    "                    }\n",
    "                },\n",
    "                \"required\": [\n",
    "                    \"resp\"\n",
    "                ],\n",
    "                \"additionalProperties\": False\n",
    "            }\n",
    "        }\n",
    "    }\n",
    "}"
   ]
  },
  {
   "cell_type": "code",
   "execution_count": 34,
   "metadata": {},
   "outputs": [],
   "source": [
    "r3 = requests.post(url1,headers=header,data=json.dumps(data_3))\n",
    "d3=r3.json()"
   ]
  },
  {
   "cell_type": "code",
   "execution_count": null,
   "metadata": {},
   "outputs": [
    {
     "data": {
      "text/plain": [
       "{'id': 'chatcmpl-B6MqfdQEJXX56OV3gZhmbFEg8xkHF',\n",
       " 'object': 'chat.completion',\n",
       " 'created': 1740857497,\n",
       " 'model': 'gpt-4o-mini-2024-07-18',\n",
       " 'choices': [{'index': 0,\n",
       "   'message': {'role': 'assistant',\n",
       "    'content': '{\"resp\":[{\"sentence_no\":0,\"sentiment\":\"negative\"},{\"sentence_no\":1,\"sentiment\":\"positive\"},{\"sentence_no\":2,\"sentiment\":\"negative\"},{\"sentence_no\":3,\"sentiment\":\"neutral\"}]}',\n",
       "    'refusal': None},\n",
       "   'logprobs': None,\n",
       "   'finish_reason': 'stop'}],\n",
       " 'usage': {'prompt_tokens': 175,\n",
       "  'completion_tokens': 46,\n",
       "  'total_tokens': 221,\n",
       "  'prompt_tokens_details': {'cached_tokens': 0, 'audio_tokens': 0},\n",
       "  'completion_tokens_details': {'reasoning_tokens': 0,\n",
       "   'audio_tokens': 0,\n",
       "   'accepted_prediction_tokens': 0,\n",
       "   'rejected_prediction_tokens': 0}},\n",
       " 'service_tier': 'default',\n",
       " 'system_fingerprint': 'fp_06737a9306',\n",
       " 'monthlyCost': 0.003309,\n",
       " 'cost': 0.000801,\n",
       " 'monthlyRequests': 6}"
      ]
     },
     "execution_count": 35,
     "metadata": {},
     "output_type": "execute_result"
    }
   ],
   "source": [
    "json.d3"
   ]
  },
  {
   "cell_type": "code",
   "execution_count": 39,
   "metadata": {},
   "outputs": [
    {
     "name": "stdout",
     "output_type": "stream",
     "text": [
      "{'resp': [{'sentence_no': 0, 'sentiment': 'negative'}, {'sentence_no': 1, 'sentiment': 'positive'}, {'sentence_no': 2, 'sentiment': 'negative'}, {'sentence_no': 3, 'sentiment': 'neutral'}]}\n"
     ]
    }
   ],
   "source": [
    "print(json.loads(d3['choices'][0]['message']['content']))"
   ]
  },
  {
   "cell_type": "markdown",
   "metadata": {},
   "source": [
    "# embeddings and cosine similarity"
   ]
  },
  {
   "cell_type": "code",
   "execution_count": null,
   "metadata": {},
   "outputs": [],
   "source": [
    "words = ['Apple', 'Orange', 'Banana', 'Jamaica', 'Sri Lanka', 'Facebook', 'Google']\n",
    "\n",
    "data_4 = {\n",
    "    \"input\": words,\n",
    "    \"model\": m2,\n",
    "    \"encoding_format\": \"float\"\n",
    "}"
   ]
  },
  {
   "cell_type": "code",
   "execution_count": 49,
   "metadata": {},
   "outputs": [],
   "source": [
    "r4 = requests.post(url2,headers=header,data=json.dumps(data_4))\n",
    "\n",
    "d4=r4.json()"
   ]
  },
  {
   "cell_type": "code",
   "execution_count": 146,
   "metadata": {},
   "outputs": [
    {
     "data": {
      "text/html": [
       "<div>\n",
       "<style scoped>\n",
       "    .dataframe tbody tr th:only-of-type {\n",
       "        vertical-align: middle;\n",
       "    }\n",
       "\n",
       "    .dataframe tbody tr th {\n",
       "        vertical-align: top;\n",
       "    }\n",
       "\n",
       "    .dataframe thead th {\n",
       "        text-align: right;\n",
       "    }\n",
       "</style>\n",
       "<table border=\"1\" class=\"dataframe\">\n",
       "  <thead>\n",
       "    <tr style=\"text-align: right;\">\n",
       "      <th></th>\n",
       "      <th>word</th>\n",
       "      <th>embedding</th>\n",
       "    </tr>\n",
       "  </thead>\n",
       "  <tbody>\n",
       "    <tr>\n",
       "      <th>0</th>\n",
       "      <td>Apple</td>\n",
       "      <td>[0.009175114, -0.03518077, -0.025036855, 0.039...</td>\n",
       "    </tr>\n",
       "    <tr>\n",
       "      <th>1</th>\n",
       "      <td>Orange</td>\n",
       "      <td>[-0.013172907, 0.0051653804, -0.023958141, 0.0...</td>\n",
       "    </tr>\n",
       "    <tr>\n",
       "      <th>2</th>\n",
       "      <td>Banana</td>\n",
       "      <td>[0.021114137, -0.043225136, -0.035277914, 0.01...</td>\n",
       "    </tr>\n",
       "    <tr>\n",
       "      <th>3</th>\n",
       "      <td>Jamaica</td>\n",
       "      <td>[0.034378856, -0.031084437, 0.006070764, 0.051...</td>\n",
       "    </tr>\n",
       "    <tr>\n",
       "      <th>4</th>\n",
       "      <td>Sri Lanka</td>\n",
       "      <td>[0.02704939, -0.016649535, 0.037278358, -0.004...</td>\n",
       "    </tr>\n",
       "    <tr>\n",
       "      <th>5</th>\n",
       "      <td>Facebook</td>\n",
       "      <td>[0.030002322, -0.025417516, -0.045874864, 0.09...</td>\n",
       "    </tr>\n",
       "    <tr>\n",
       "      <th>6</th>\n",
       "      <td>Google</td>\n",
       "      <td>[0.009119771, 0.0033862204, -0.017700443, 0.03...</td>\n",
       "    </tr>\n",
       "  </tbody>\n",
       "</table>\n",
       "</div>"
      ],
      "text/plain": [
       "        word                                          embedding\n",
       "0      Apple  [0.009175114, -0.03518077, -0.025036855, 0.039...\n",
       "1     Orange  [-0.013172907, 0.0051653804, -0.023958141, 0.0...\n",
       "2     Banana  [0.021114137, -0.043225136, -0.035277914, 0.01...\n",
       "3    Jamaica  [0.034378856, -0.031084437, 0.006070764, 0.051...\n",
       "4  Sri Lanka  [0.02704939, -0.016649535, 0.037278358, -0.004...\n",
       "5   Facebook  [0.030002322, -0.025417516, -0.045874864, 0.09...\n",
       "6     Google  [0.009119771, 0.0033862204, -0.017700443, 0.03..."
      ]
     },
     "execution_count": 146,
     "metadata": {},
     "output_type": "execute_result"
    }
   ],
   "source": [
    "embed=[]\n",
    "for i,j in zip(words,d4['data']):\n",
    "    embed.append({'word' : i , 'embedding' : j['embedding']})\n",
    "df = pd.DataFrame(embed)\n",
    "df"
   ]
  },
  {
   "cell_type": "code",
   "execution_count": 158,
   "metadata": {},
   "outputs": [
    {
     "data": {
      "text/html": [
       "<div>\n",
       "<style scoped>\n",
       "    .dataframe tbody tr th:only-of-type {\n",
       "        vertical-align: middle;\n",
       "    }\n",
       "\n",
       "    .dataframe tbody tr th {\n",
       "        vertical-align: top;\n",
       "    }\n",
       "\n",
       "    .dataframe thead th {\n",
       "        text-align: right;\n",
       "    }\n",
       "</style>\n",
       "<table border=\"1\" class=\"dataframe\">\n",
       "  <thead>\n",
       "    <tr style=\"text-align: right;\">\n",
       "      <th></th>\n",
       "      <th>Apple</th>\n",
       "      <th>Orange</th>\n",
       "      <th>Banana</th>\n",
       "      <th>Jamaica</th>\n",
       "      <th>Sri Lanka</th>\n",
       "      <th>Facebook</th>\n",
       "      <th>Google</th>\n",
       "    </tr>\n",
       "  </thead>\n",
       "  <tbody>\n",
       "    <tr>\n",
       "      <th>Apple</th>\n",
       "      <td>1.000000</td>\n",
       "      <td>0.445330</td>\n",
       "      <td>0.386284</td>\n",
       "      <td>0.207051</td>\n",
       "      <td>0.195969</td>\n",
       "      <td>0.409232</td>\n",
       "      <td>0.437972</td>\n",
       "    </tr>\n",
       "    <tr>\n",
       "      <th>Orange</th>\n",
       "      <td>0.445330</td>\n",
       "      <td>1.000000</td>\n",
       "      <td>0.357203</td>\n",
       "      <td>0.198378</td>\n",
       "      <td>0.137683</td>\n",
       "      <td>0.297718</td>\n",
       "      <td>0.257831</td>\n",
       "    </tr>\n",
       "    <tr>\n",
       "      <th>Banana</th>\n",
       "      <td>0.386284</td>\n",
       "      <td>0.357203</td>\n",
       "      <td>1.000000</td>\n",
       "      <td>0.367952</td>\n",
       "      <td>0.238129</td>\n",
       "      <td>0.209775</td>\n",
       "      <td>0.218002</td>\n",
       "    </tr>\n",
       "    <tr>\n",
       "      <th>Jamaica</th>\n",
       "      <td>0.207051</td>\n",
       "      <td>0.198378</td>\n",
       "      <td>0.367952</td>\n",
       "      <td>1.000000</td>\n",
       "      <td>0.395514</td>\n",
       "      <td>0.185169</td>\n",
       "      <td>0.124608</td>\n",
       "    </tr>\n",
       "    <tr>\n",
       "      <th>Sri Lanka</th>\n",
       "      <td>0.195969</td>\n",
       "      <td>0.137683</td>\n",
       "      <td>0.238129</td>\n",
       "      <td>0.395514</td>\n",
       "      <td>1.000000</td>\n",
       "      <td>0.182873</td>\n",
       "      <td>0.182547</td>\n",
       "    </tr>\n",
       "    <tr>\n",
       "      <th>Facebook</th>\n",
       "      <td>0.409232</td>\n",
       "      <td>0.297718</td>\n",
       "      <td>0.209775</td>\n",
       "      <td>0.185169</td>\n",
       "      <td>0.182873</td>\n",
       "      <td>1.000000</td>\n",
       "      <td>0.582012</td>\n",
       "    </tr>\n",
       "    <tr>\n",
       "      <th>Google</th>\n",
       "      <td>0.437972</td>\n",
       "      <td>0.257831</td>\n",
       "      <td>0.218002</td>\n",
       "      <td>0.124608</td>\n",
       "      <td>0.182547</td>\n",
       "      <td>0.582012</td>\n",
       "      <td>1.000000</td>\n",
       "    </tr>\n",
       "  </tbody>\n",
       "</table>\n",
       "</div>"
      ],
      "text/plain": [
       "              Apple    Orange    Banana   Jamaica  Sri Lanka  Facebook  \\\n",
       "Apple      1.000000  0.445330  0.386284  0.207051   0.195969  0.409232   \n",
       "Orange     0.445330  1.000000  0.357203  0.198378   0.137683  0.297718   \n",
       "Banana     0.386284  0.357203  1.000000  0.367952   0.238129  0.209775   \n",
       "Jamaica    0.207051  0.198378  0.367952  1.000000   0.395514  0.185169   \n",
       "Sri Lanka  0.195969  0.137683  0.238129  0.395514   1.000000  0.182873   \n",
       "Facebook   0.409232  0.297718  0.209775  0.185169   0.182873  1.000000   \n",
       "Google     0.437972  0.257831  0.218002  0.124608   0.182547  0.582012   \n",
       "\n",
       "             Google  \n",
       "Apple      0.437972  \n",
       "Orange     0.257831  \n",
       "Banana     0.218002  \n",
       "Jamaica    0.124608  \n",
       "Sri Lanka  0.182547  \n",
       "Facebook   0.582012  \n",
       "Google     1.000000  "
      ]
     },
     "execution_count": 158,
     "metadata": {},
     "output_type": "execute_result"
    }
   ],
   "source": [
    "embed_matrix = pd.DataFrame(\n",
    "    cos_sim(df.embedding,df.embedding).numpy(),\n",
    "    index=list(df.word),\n",
    "    columns=list(df.word)\n",
    ")\n",
    "\n",
    "embed_matrix"
   ]
  },
  {
   "cell_type": "markdown",
   "metadata": {},
   "source": [
    "# image analysis\n",
    "\n",
    "one with image in base 64 uri. pls look at base64.ipynb\n",
    "\n",
    "another with wikipedia image with `\"details\" : \"low\"`"
   ]
  },
  {
   "cell_type": "code",
   "execution_count": null,
   "metadata": {},
   "outputs": [],
   "source": [
    "with open('email.png', 'rb') as f:\n",
    "    binary_data = f.read()\n",
    "    image_b64 = base64.b64encode(binary_data).decode()\n",
    "\n",
    "uri=f\"data:image/png;base64,{image_b64}\""
   ]
  },
  {
   "cell_type": "code",
   "execution_count": 102,
   "metadata": {},
   "outputs": [],
   "source": [
    "data_5 = {\n",
    "    \"model\" : m1,\n",
    "    \"messages\" : [\n",
    "        {\n",
    "            \"role\" : \"user\",\n",
    "            \"content\" : [\n",
    "        {\"type\": \"text\", \"text\": \"What is in this image?\"},\n",
    "        {\n",
    "          \"type\": \"image_url\",\n",
    "          \"image_url\": { \"url\": uri}\n",
    "        }\n",
    "      ]\n",
    "        }\n",
    "    ]\n",
    "}"
   ]
  },
  {
   "cell_type": "code",
   "execution_count": 103,
   "metadata": {},
   "outputs": [],
   "source": [
    "r5 = requests.post(url1,headers=header,data=json.dumps(data_5))\n",
    "\n",
    "d5 = r5.json()"
   ]
  },
  {
   "cell_type": "code",
   "execution_count": 104,
   "metadata": {},
   "outputs": [
    {
     "data": {
      "text/plain": [
       "'The image contains an email address and a number. The email address is \"23f2000573@ds.study.iitm.ac.in\" and the number is \"22005475.\"'"
      ]
     },
     "execution_count": 104,
     "metadata": {},
     "output_type": "execute_result"
    }
   ],
   "source": [
    "d5['choices'][0]['message']['content']"
   ]
  },
  {
   "cell_type": "code",
   "execution_count": 90,
   "metadata": {},
   "outputs": [],
   "source": [
    "data_6 = {\n",
    "    \"model\": m1,\n",
    "    \"messages\": [\n",
    "      {\n",
    "        \"role\": \"user\",\n",
    "        \"content\": [\n",
    "          {\"type\": \"text\", \"text\": \"What is in this image?\"},\n",
    "          {\n",
    "            \"type\": \"image_url\",\n",
    "            \"image_url\": {\"url\": \"https://upload.wikimedia.org/wikipedia/commons/3/34/Correlation_coefficient.png\",\"detail\": \"low\"}\n",
    "          }\n",
    "        ]\n",
    "      }\n",
    "    ]\n",
    "}"
   ]
  },
  {
   "cell_type": "code",
   "execution_count": 91,
   "metadata": {},
   "outputs": [],
   "source": [
    "r6 = requests.post(url1,headers=header,data=json.dumps(data_6))\n",
    "\n",
    "d6 = r6.json()"
   ]
  },
  {
   "cell_type": "code",
   "execution_count": 94,
   "metadata": {},
   "outputs": [
    {
     "name": "stdout",
     "output_type": "stream",
     "text": [
      "The image displays several scatter plots illustrating different correlation coefficients (\\( \\rho \\)). Each plot shows a set of orange points and a green line representing the relationship between the variables:\n",
      "\n",
      "1. **\\( \\rho = -1 \\)** - Perfect negative correlation; points lie on a straight line with a downward slope.\n",
      "2. **\\( -1 < \\rho < 0 \\)** - Negative correlation; points are scattered but still show a downward trend.\n",
      "3. **\\( 0 < \\rho < 1 \\)** - Positive correlation; points are scattered but indicate an upward trend.\n",
      "4. **\\( \\rho = 1 \\)** - Perfect positive correlation; points lie on a straight line with an upward slope.\n",
      "5. **\\( \\rho = 0 \\)** - No correlation; points are randomly scattered with no discernible trend.\n",
      "\n",
      "These plots visually represent varying degrees of linear relationships between two variables.\n"
     ]
    }
   ],
   "source": [
    "print(d6['choices'][0]['message']['content'])"
   ]
  },
  {
   "cell_type": "markdown",
   "metadata": {},
   "source": [
    "# function calling"
   ]
  },
  {
   "cell_type": "code",
   "execution_count": 119,
   "metadata": {},
   "outputs": [],
   "source": [
    "def string_repeat(s, n):\n",
    "  return s * n\n",
    "\n",
    "def string_slice(s, n):\n",
    "  if abs(n) >= len(s):\n",
    "    return s\n",
    "  return s[:abs(n)]\n",
    "\n",
    "func_dict = {\n",
    "  'string_repeat' : string_repeat,\n",
    "  \"string_slice\" : string_slice\n",
    "}"
   ]
  },
  {
   "cell_type": "code",
   "execution_count": 110,
   "metadata": {},
   "outputs": [],
   "source": [
    "function_tools = [\n",
    "    \n",
    "    {\n",
    "        \"type\": \"function\",\n",
    "        \"function\": {\n",
    "            \"name\": \"string_repeat\",\n",
    "            \"description\" : \"a python function which takes a string 's' and number 'n' as arguments and returns the string 's*n'\",\n",
    "            \"parameters\": {\n",
    "                \"type\": \"object\",\n",
    "                \"properties\": {\n",
    "                    \"s\" : {\n",
    "                        \"type\" : \"string\",\n",
    "                        \"description\" : \"the string which will be multiplied by 'n'\"\n",
    "                    },\n",
    "                    \"n\" : {\n",
    "                        \"type\" : \"integer\",\n",
    "                        \"description\" : \"the number which decides the number of times string 's' is repeated\"\n",
    "                    }\n",
    "                },\n",
    "                \"required\": ['s','n'],\n",
    "                \"additionalProperties\": False\n",
    "            },\n",
    "            \"strict\": True\n",
    "        }\n",
    "    },\n",
    "\n",
    "    {\n",
    "        \"type\": \"function\",\n",
    "        \"function\": {\n",
    "            \"name\": \"string_slice\",\n",
    "            \"description\" : \"a python function which takes a string 's' and number 'n' as arguments and returns the slice 's[:abs(n)]'. this is the first 'n' characters of 's'\",\n",
    "            \"parameters\": {\n",
    "            \"type\": \"object\",\n",
    "                \"properties\": {\n",
    "                    \"s\" : {\n",
    "                        \"type\" : \"string\",\n",
    "                        \"description\" : \"the string which will be sliced\"\n",
    "                    },\n",
    "                    \"n\" : {\n",
    "                        \"type\" : \"integer\",\n",
    "                        \"description\" : \"the number which decides the number of charecters to be slice in string 's'\"\n",
    "                    }\n",
    "                },\n",
    "                \"required\": ['s','n'],\n",
    "                \"additionalProperties\": False\n",
    "            },\n",
    "            \"strict\": True\n",
    "        }\n",
    "    }\n",
    "\n",
    "]"
   ]
  },
  {
   "cell_type": "code",
   "execution_count": 140,
   "metadata": {},
   "outputs": [],
   "source": [
    "def query(user_input,url,tools,header)   : \n",
    "    data_7 = {\n",
    "        \"model\" : m1,\n",
    "        \"messages\" :[{\"role\": \"user\", \"content\": user_input}],\n",
    "        \"tools\" : tools,\n",
    "        \"tool_choice\" : \"auto\"\n",
    "    }\n",
    "\n",
    "    r = requests.post(url,headers=header,data=json.dumps(data_7))\n",
    "\n",
    "    return r.json()"
   ]
  },
  {
   "cell_type": "code",
   "execution_count": 116,
   "metadata": {},
   "outputs": [],
   "source": [
    "d7 = query(\"is it possible to print appleappleapple\",url1,function_tools,header)"
   ]
  },
  {
   "cell_type": "code",
   "execution_count": null,
   "metadata": {},
   "outputs": [
    {
     "data": {
      "text/plain": [
       "{'id': 'chatcmpl-B6PBfTx14nsC5CATjk4mAeSJlGzyC',\n",
       " 'object': 'chat.completion',\n",
       " 'created': 1740866487,\n",
       " 'model': 'gpt-4o-mini-2024-07-18',\n",
       " 'choices': [{'index': 0,\n",
       "   'message': {'role': 'assistant',\n",
       "    'content': None,\n",
       "    'tool_calls': [{'id': 'call_iK13ZeOriwJkJmBe3zRGKPJt',\n",
       "      'type': 'function',\n",
       "      'function': {'name': 'string_repeat',\n",
       "       'arguments': '{\"s\":\"apple\",\"n\":3}'}}],\n",
       "    'refusal': None},\n",
       "   'logprobs': None,\n",
       "   'finish_reason': 'tool_calls'}],\n",
       " 'usage': {'prompt_tokens': 185,\n",
       "  'completion_tokens': 19,\n",
       "  'total_tokens': 204,\n",
       "  'prompt_tokens_details': {'cached_tokens': 0, 'audio_tokens': 0},\n",
       "  'completion_tokens_details': {'reasoning_tokens': 0,\n",
       "   'audio_tokens': 0,\n",
       "   'accepted_prediction_tokens': 0,\n",
       "   'rejected_prediction_tokens': 0}},\n",
       " 'service_tier': 'default',\n",
       " 'system_fingerprint': 'fp_06737a9306',\n",
       " 'monthlyCost': 0.01940424,\n",
       " 'cost': 0.0006690000000000001,\n",
       " 'monthlyRequests': 15}"
      ]
     },
     "execution_count": 117,
     "metadata": {},
     "output_type": "execute_result"
    }
   ],
   "source": [
    "d7"
   ]
  },
  {
   "cell_type": "code",
   "execution_count": null,
   "metadata": {},
   "outputs": [
    {
     "name": "stdout",
     "output_type": "stream",
     "text": [
      "{'id': 'call_iK13ZeOriwJkJmBe3zRGKPJt', 'type': 'function', 'function': {'name': 'string_repeat', 'arguments': '{\"s\":\"apple\",\"n\":3}'}}\n",
      "string_repeat apple 3\n",
      "appleappleapple\n"
     ]
    }
   ],
   "source": [
    "tool_1 = d7['choices'][0]['message']['tool_calls'][0]\n",
    "\n",
    "print(tool_1)\n",
    "\n",
    "\n",
    "# not sure why, but the 'arguments' key's value is not a dict, but a string, hence used json.loads\n",
    "\n",
    "func_name_1 = tool_1['function']['name']\n",
    "str_1 = json.loads(tool_1['function']['arguments'])['s']\n",
    "int_1 = json.loads(tool_1['function']['arguments'])['n']\n",
    "print(func_name_1,str_1,int_1)\n",
    "\n",
    "print(func_dict[func_name_1](s=str_1,n=int_1))"
   ]
  },
  {
   "cell_type": "code",
   "execution_count": 141,
   "metadata": {},
   "outputs": [],
   "source": [
    "d8 = query(\"is it possible to print take the first 3 elements of abcdefghij\",url1,function_tools,header)"
   ]
  },
  {
   "cell_type": "code",
   "execution_count": 142,
   "metadata": {},
   "outputs": [
    {
     "data": {
      "text/plain": [
       "{'id': 'chatcmpl-B6PNmzPH4J04KfgZJAPZjXshvmW6W',\n",
       " 'object': 'chat.completion',\n",
       " 'created': 1740867238,\n",
       " 'model': 'gpt-4o-mini-2024-07-18',\n",
       " 'choices': [{'index': 0,\n",
       "   'message': {'role': 'assistant',\n",
       "    'content': None,\n",
       "    'tool_calls': [{'id': 'call_bgb1s1UYo68eBdgcHQXzu1W8',\n",
       "      'type': 'function',\n",
       "      'function': {'name': 'string_slice',\n",
       "       'arguments': '{\"s\":\"abcdefghij\",\"n\":3}'}}],\n",
       "    'refusal': None},\n",
       "   'logprobs': None,\n",
       "   'finish_reason': 'tool_calls'}],\n",
       " 'usage': {'prompt_tokens': 193,\n",
       "  'completion_tokens': 20,\n",
       "  'total_tokens': 213,\n",
       "  'prompt_tokens_details': {'cached_tokens': 0, 'audio_tokens': 0},\n",
       "  'completion_tokens_details': {'reasoning_tokens': 0,\n",
       "   'audio_tokens': 0,\n",
       "   'accepted_prediction_tokens': 0,\n",
       "   'rejected_prediction_tokens': 0}},\n",
       " 'service_tier': 'default',\n",
       " 'system_fingerprint': 'fp_06737a9306',\n",
       " 'monthlyCost': 0.02080224,\n",
       " 'cost': 0.000699,\n",
       " 'monthlyRequests': 17}"
      ]
     },
     "execution_count": 142,
     "metadata": {},
     "output_type": "execute_result"
    }
   ],
   "source": [
    "d8"
   ]
  },
  {
   "cell_type": "code",
   "execution_count": null,
   "metadata": {},
   "outputs": [
    {
     "name": "stdout",
     "output_type": "stream",
     "text": [
      "{'id': 'call_bgb1s1UYo68eBdgcHQXzu1W8', 'type': 'function', 'function': {'name': 'string_slice', 'arguments': '{\"s\":\"abcdefghij\",\"n\":3}'}}\n",
      "string_slice abcdefghij 3\n",
      "abc\n"
     ]
    }
   ],
   "source": [
    "tool_2 = d8['choices'][0]['message']['tool_calls'][0]\n",
    "\n",
    "print(tool_2)\n",
    "\n",
    "# not sure why, but the 'arguments' key's value is not a dict, but a string, hence used json.loads\n",
    "\n",
    "func_name_2 = tool_2['function']['name']\n",
    "str_2 = json.loads(tool_2['function']['arguments'])['s']\n",
    "int_2 = json.loads(tool_2['function']['arguments'])['n']\n",
    "print(func_name_2,str_2,int_2)\n",
    "\n",
    "print(func_dict[func_name_2](s=str_2,n=int_2))"
   ]
  }
 ],
 "metadata": {
  "kernelspec": {
   "display_name": "venv",
   "language": "python",
   "name": "python3"
  },
  "language_info": {
   "codemirror_mode": {
    "name": "ipython",
    "version": 3
   },
   "file_extension": ".py",
   "mimetype": "text/x-python",
   "name": "python",
   "nbconvert_exporter": "python",
   "pygments_lexer": "ipython3",
   "version": "3.12.3"
  }
 },
 "nbformat": 4,
 "nbformat_minor": 2
}
