{
 "cells": [
  {
   "cell_type": "code",
   "execution_count": 7,
   "metadata": {},
   "outputs": [],
   "source": [
    "import base64"
   ]
  },
  {
   "cell_type": "code",
   "execution_count": 60,
   "metadata": {},
   "outputs": [
    {
     "data": {
      "text/plain": [
       "('SGVsbG8sIFdvcmxkIQ==', 'Hello, World!', 'SGVsbG8sIFdvcmxkIQ==', 'A')"
      ]
     },
     "execution_count": 60,
     "metadata": {},
     "output_type": "execute_result"
    }
   ],
   "source": [
    "text = \"Hello, World!\"\n",
    "encoded = base64.b64encode(text.encode()).decode()\n",
    "decoded = base64.b64decode(encoded).decode()\n",
    "url_safe = base64.urlsafe_b64encode(text.encode()).decode()\n",
    "\n",
    "encoded, decoded, url_safe,b\"\\101\".decode()"
   ]
  },
  {
   "cell_type": "code",
   "execution_count": null,
   "metadata": {},
   "outputs": [
    {
     "data": {
      "text/plain": [
       "'data:image/png;base64,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'"
      ]
     },
     "execution_count": 73,
     "metadata": {},
     "output_type": "execute_result"
    }
   ],
   "source": [
    "with open('email.png', 'rb') as f:\n",
    "    binary_data = f.read()\n",
    "    image_b64 = base64.b64encode(binary_data).decode()\n",
    "\n",
    "f\"data:image/png;base64,{image_b64}\"\n",
    "\n",
    "# data:image/svg+xml;base64, -> may be needed for svg file I guess, not sure, pls verify"
   ]
  },
  {
   "cell_type": "code",
   "execution_count": null,
   "metadata": {},
   "outputs": [
    {
     "data": {
      "text/plain": [
       "bytes"
      ]
     },
     "execution_count": 66,
     "metadata": {},
     "output_type": "execute_result"
    }
   ],
   "source": []
  }
 ],
 "metadata": {
  "kernelspec": {
   "display_name": "venv",
   "language": "python",
   "name": "python3"
  },
  "language_info": {
   "codemirror_mode": {
    "name": "ipython",
    "version": 3
   },
   "file_extension": ".py",
   "mimetype": "text/x-python",
   "name": "python",
   "nbconvert_exporter": "python",
   "pygments_lexer": "ipython3",
   "version": "3.12.3"
  }
 },
 "nbformat": 4,
 "nbformat_minor": 2
}
