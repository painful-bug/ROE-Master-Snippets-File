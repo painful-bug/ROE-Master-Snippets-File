{
 "cells": [
  {
   "cell_type": "markdown",
   "metadata": {},
   "source": [
    "# Use on colab as GPU will be better."
   ]
  },
  {
   "cell_type": "code",
   "execution_count": null,
   "metadata": {},
   "outputs": [],
   "source": [
    "import numpy as np\n",
    "from PIL import Image\n",
    "from google.colab import files\n",
    "import colorsys\n",
    "\n",
    "# There is a mistake in the line below. Fix it\n",
    "image = Image.open(\"/content/lenna.webp\")\n",
    "\n",
    "rgb = np.array(image) / 255.0\n",
    "lightness = np.apply_along_axis(lambda x: colorsys.rgb_to_hls(*x)[1], 2, rgb)\n",
    "light_pixels = np.sum(lightness > 0.755)\n",
    "print(f'Number of pixels with lightness > 0.755: {light_pixels}')"
   ]
  },
  {
   "cell_type": "code",
   "execution_count": null,
   "metadata": {},
   "outputs": [],
   "source": [
    "import base64\n",
    "\n",
    "# Function to encode the image\n",
    "\n",
    "\n",
    "def encode_image(image_path):\n",
    "    with open(image_path, \"rb\") as image_file:\n",
    "        return base64.b64encode(image_file.read()).decode(\"utf-8\")\n",
    "\n",
    "\n",
    "# Path to your image\n",
    "image_path = \"/content/download.png\"\n",
    "\n",
    "# Getting the Base64 string\n",
    "base64_image = encode_image(image_path)"
   ]
  },
  {
   "cell_type": "markdown",
   "metadata": {},
   "source": [
    "## Below is the GA_5 Grid code where we had to solve an image puzzle."
   ]
  },
  {
   "cell_type": "code",
   "execution_count": null,
   "metadata": {},
   "outputs": [],
   "source": [
    "from PIL import Image\n",
    "import numpy as np\n",
    "\n",
    "# Load the scrambled image\n",
    "scrambled_img = Image.open(\".\\jigsaw.webp\")\n",
    "# path has been adjusted for windows.... adjust for colab if you use it there.\n",
    "\n",
    "# Define grid size\n",
    "GRID_SIZE = 5\n",
    "PIECE_SIZE = scrambled_img.width // GRID_SIZE  # 100 pixels per piece\n",
    "\n",
    "# Define the mapping of scrambled positions to original positions\n",
    "mapping = [\n",
    "    (2, 1, 0, 0), (1, 1, 0, 1), (4, 1, 0, 2), (0, 3, 0, 3), (0, 1, 0, 4),\n",
    "    (1, 4, 1, 0), (2, 0, 1, 1), (2, 4, 1, 2), (4, 2, 1, 3), (2, 2, 1, 4),\n",
    "    (0, 0, 2, 0), (3, 2, 2, 1), (4, 3, 2, 2), (3, 0, 2, 3), (3, 4, 2, 4),\n",
    "    (1, 0, 3, 0), (2, 3, 3, 1), (3, 3, 3, 2), (4, 4, 3, 3), (0, 2, 3, 4),\n",
    "    (3, 1, 4, 0), (1, 2, 4, 1), (1, 3, 4, 2), (0, 4, 4, 3), (4, 0, 4, 4)\n",
    "]\n",
    "\n",
    "# Create a blank image for the reconstructed result\n",
    "reconstructed_img = Image.new(\n",
    "    \"RGB\", (scrambled_img.width, scrambled_img.height))\n",
    "\n",
    "# Reassemble the image based on the mapping\n",
    "for original_row, original_col, scrambled_row, scrambled_col in mapping:\n",
    "    # Extract the scrambled piece\n",
    "    scrambled_x = scrambled_col * PIECE_SIZE\n",
    "    scrambled_y = scrambled_row * PIECE_SIZE\n",
    "    piece = scrambled_img.crop(\n",
    "        (scrambled_x, scrambled_y, scrambled_x + PIECE_SIZE, scrambled_y + PIECE_SIZE))\n",
    "\n",
    "    # Place it in the original position\n",
    "    original_x = original_col * PIECE_SIZE\n",
    "    original_y = original_row * PIECE_SIZE\n",
    "    reconstructed_img.paste(piece, (original_x, original_y))\n",
    "\n",
    "# Save the reconstructed image\n",
    "reconstructed_img.save(\"reconstructed_image.png\")\n",
    "print(\"Reconstructed image saved as reconstructed_image.png\")"
   ]
  }
 ],
 "metadata": {
  "kernelspec": {
   "display_name": ".venv",
   "language": "python",
   "name": "python3"
  },
  "language_info": {
   "name": "python",
   "version": "3.12.2"
  }
 },
 "nbformat": 4,
 "nbformat_minor": 2
}
