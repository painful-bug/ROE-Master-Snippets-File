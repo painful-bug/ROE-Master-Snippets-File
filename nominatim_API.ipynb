{
 "cells": [
  {
   "cell_type": "markdown",
   "metadata": {},
   "source": [
    "# Find locationa and get distance"
   ]
  },
  {
   "cell_type": "code",
   "execution_count": 4,
   "metadata": {},
   "outputs": [
    {
     "name": "stdout",
     "output_type": "stream",
     "text": [
      "Distance between Mumbai and Delhi: 1146.94 km\n"
     ]
    }
   ],
   "source": [
    "import requests\n",
    "from urllib.parse import urlencode\n",
    "from geopy.distance import geodesic\n",
    "\n",
    "def get_location(query):\n",
    "    \"\"\"Fetch coordinates of a location using Nominatim API.\"\"\"\n",
    "    url = \"https://nominatim.openstreetmap.org/search?\" + urlencode(\n",
    "        {\n",
    "            'q': query,\n",
    "            'format': 'json',\n",
    "            'limit': 1  # Get only the most relevant result\n",
    "        }\n",
    "    )\n",
    "    headers = {'User-Agent': 'geo-query-script'}\n",
    "    response = requests.get(url, headers=headers)\n",
    "\n",
    "    if response.status_code == 200 and response.json():\n",
    "        return response.json()[0]  # Return the first result\n",
    "    else:\n",
    "        print(f\"Error: No results found for {query}\")\n",
    "        return None\n",
    "\n",
    "def get_distance(location_1, location_2):\n",
    "    \"\"\"Calculate distance between two locations given their coordinates.\"\"\"\n",
    "    coords1 = (float(location_1['lat']), float(location_1['lon']))\n",
    "    coords2 = (float(location_2['lat']), float(location_2['lon']))\n",
    "    return geodesic(coords1, coords2).kilometers\n",
    "\n",
    "# Example usage\n",
    "location_1 = get_location('Mumbai')\n",
    "location_2 = get_location('Delhi')\n",
    "\n",
    "if location_1 and location_2:\n",
    "    distance = get_distance(location_1, location_2)\n",
    "    print(f\"Distance between Mumbai and Delhi: {distance:.2f} km\")\n",
    "else:\n",
    "    print(\"One or both locations could not be found.\")"
   ]
  }
 ],
 "metadata": {
  "kernelspec": {
   "display_name": ".venv",
   "language": "python",
   "name": "python3"
  },
  "language_info": {
   "codemirror_mode": {
    "name": "ipython",
    "version": 3
   },
   "file_extension": ".py",
   "mimetype": "text/x-python",
   "name": "python",
   "nbconvert_exporter": "python",
   "pygments_lexer": "ipython3",
   "version": "3.12.2"
  }
 },
 "nbformat": 4,
 "nbformat_minor": 2
}
